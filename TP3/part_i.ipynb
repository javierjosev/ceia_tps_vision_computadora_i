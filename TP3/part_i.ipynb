{
 "cells": [
  {
   "cell_type": "markdown",
   "metadata": {},
   "source": [
    "# TP 3"
   ]
  },
  {
   "cell_type": "markdown",
   "metadata": {},
   "source": [
    "Encontrar el logotipo de la gaseosa dentro de las imágenes provistas en \"Material_TPs/TP3/images\" a partir del template \"Material_TPs/TP3/template\""
   ]
  },
  {
   "cell_type": "code",
   "execution_count": 1,
   "metadata": {},
   "outputs": [],
   "source": [
    "# %matplotlib inline\n",
    "\n",
    "import numpy as np\n",
    "import cv2 as cv\n",
    "import matplotlib.pyplot as plt\n",
    "\n",
    "# Librerías propias\n",
    "from utils import template_matching"
   ]
  },
  {
   "cell_type": "code",
   "execution_count": 2,
   "metadata": {},
   "outputs": [],
   "source": [
    "# Carga de las imágenes\n",
    "\n",
    "template_img = cv.imread('resources/template/pattern.png',0)\n",
    "# volver atrás\n",
    "template_rgb = cv.imread('resources/template/pattern.png')\n",
    "\n",
    "template_retro_img = cv.imread('resources/template/pattern_retro_1.png',0)\n",
    "\n",
    "coca_cola_logo_img = cv.imread('resources/images/COCA-COLA-LOGO.jpg')\n",
    "coca_logo_1_img = cv.imread('resources/images/coca_logo_1.png')\n",
    "coca_logo_2_img = cv.imread('resources/images/coca_logo_2.png')\n",
    "coca_retro_1_img = cv.imread('resources/images/coca_retro_1.png')\n",
    "coca_retro_2_img = cv.imread('resources/images/coca_retro_2.png')\n",
    "logo_1_img = cv.imread('resources/images/logo_1.png')\n",
    "\n",
    "coca_multi_img = cv.imread('resources/images/coca_multi.png')"
   ]
  },
  {
   "cell_type": "markdown",
   "metadata": {},
   "source": [
    "1. (4 puntos) Obtener una detección del logo en cada imagen sin falsos positivos"
   ]
  },
  {
   "cell_type": "code",
   "execution_count": 3,
   "metadata": {},
   "outputs": [],
   "source": [
    "#########################################\n",
    "\n",
    "# template_matching.template_matching_canning_with_temp_resizing(template_rgb, coca_cola_logo_img, 'cv.TM_CCOEFF') # OK\n",
    "# template_matching.template_matching_canning_with_temp_resizing(template_rgb, coca_logo_1_img, 'cv.TM_CCOEFF_NORMED') # OK\n",
    "# template_matching.template_matching_canning_with_temp_resizing(template_rgb, coca_retro_1_img, 'cv.TM_CCOEFF') # OK\n",
    "# template_matching.template_matching_canning_with_temp_resizing(template_rgb, coca_retro_2_img, 'cv.TM_CCOEFF_NORMED') # OK\n",
    "# template_matching.template_matching_canning_with_temp_resizing(template_rgb, logo_1_img, 'cv.TM_CCOEFF_NORMED') # OK\n",
    "# template_matching.template_matching_canning_with_temp_resizing(template_rgb, coca_logo_2_img, 'cv.TM_CCOEFF') # OK \n",
    "\n",
    "# # Problema por la curvatura:\n",
    "# methods = ['cv.TM_CCOEFF', 'cv.TM_CCOEFF_NORMED', 'cv.TM_CCORR', 'cv.TM_CCORR_NORMED']\n",
    "# for method in methods:\n",
    "#     template_matching.template_matching_canning_with_temp_resizing(template_rgb, coca_logo_2_img, method) # Not OK\n",
    "\n",
    "template_matching.template_matching_canning_with_temp_resizing(template_rgb, coca_cola_logo_img, 'cv.TM_CCOEFF')\n",
    "template_matching.template_matching_canning_with_temp_resizing(template_rgb, coca_cola_logo_img, 'cv.TM_CCORR')\n",
    "template_matching.template_matching_canning_with_temp_resizing(template_rgb, coca_cola_logo_img, 'cv.TM_CCOEFF_NORMED')\n",
    "template_matching.template_matching_canning_with_temp_resizing(template_rgb, coca_cola_logo_img, 'cv.TM_CCORR_NORMED')\n",
    "\n",
    "\n",
    "## MULTIPLE ###\n",
    "\n",
    "# template_matching.mult_template_matching_canning_with_temp_resizing(template_rgb, coca_multi_img, 'cv.TM_CCOEFF_NORMED', 1e-6)\n",
    "\n",
    "# template_matching.template_matching_canning_with_temp_resizing(template_rgb, coca_multi_img, 'cv.TM_CCOEFF', debug = True)\n",
    "\n",
    "#########################################\n",
    "\n",
    "\n",
    "\n",
    "\n",
    "\n",
    "## OLD ##\n",
    "#########\n",
    "\n",
    "# methods = ['cv.TM_CCOEFF', 'cv.TM_CCOEFF_NORMED', 'cv.TM_CCORR',\n",
    "#                'cv.TM_CCORR_NORMED', 'cv.TM_SQDIFF', 'cv.TM_SQDIFF_NORMED']\n",
    "# template_matching.single_match_template(template_retro_img, coca_retro_1_img, methods)\n",
    "\n",
    "# # template_matching.template_matching_canning_with_resizing(template_retro_img, coca_retro_1_img)\n",
    "# template_matching.template_matching_canning_with_resizing(template_rgb, coca_cola_logo_img)\n",
    "# template_matching.template_matching_canning_with_resizing(template_rgb, coca_logo_1_img)\n",
    "# template_matching.template_matching_canning_with_resizing(template_rgb, coca_logo_2_img)\n",
    "# template_matching.template_matching_canning_with_resizing(template_rgb, coca_retro_1_img)\n",
    "\n",
    "# # TODO ARRIBA ALGUNAS SE VAN POR TAMAÑO!!!\n",
    "# # Falla, porque la imagen es más grande, pero el logo dentro de la imagen es más chico que el template!!!\n",
    "# template_matching.template_matching_canning_with_resizing(template_rgb, coca_retro_2_img)\n",
    "# template_matching.template_matching_canning_with_resizing(template_rgb, logo_1_img)\n",
    "\n"
   ]
  },
  {
   "cell_type": "markdown",
   "metadata": {},
   "source": [
    "2. (4 puntos) Plantear y validar un algoritmo para múltiples detecciones en la imagen coca_multi.png con el mismo témplate del ítem 1"
   ]
  },
  {
   "cell_type": "markdown",
   "metadata": {},
   "source": [
    "NOTAS:\n",
    "Para la detección múltiple debemos definir un umbral y es fundamental emplear métodos normalizados.\n",
    "Como las imágenes no son del mismo tamaño, hay que aplicar un posprocesamiento. Se podría usar Canny para detección de bordes, tanto en el template como en la imagen y hacer template matching a nivel bordes. (muy buena)\n"
   ]
  }
 ],
 "metadata": {
  "kernelspec": {
   "display_name": ".venv",
   "language": "python",
   "name": "python3"
  },
  "language_info": {
   "codemirror_mode": {
    "name": "ipython",
    "version": 3
   },
   "file_extension": ".py",
   "mimetype": "text/x-python",
   "name": "python",
   "nbconvert_exporter": "python",
   "pygments_lexer": "ipython3",
   "version": "3.10.12"
  }
 },
 "nbformat": 4,
 "nbformat_minor": 2
}
